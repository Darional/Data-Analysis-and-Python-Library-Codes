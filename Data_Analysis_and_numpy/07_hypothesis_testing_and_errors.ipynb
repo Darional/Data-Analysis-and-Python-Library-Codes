{
 "cells": [
  {
   "cell_type": "markdown",
   "id": "e33e879f",
   "metadata": {},
   "source": []
  },
  {
   "cell_type": "code",
   "execution_count": 2,
   "id": "8cc1b3f3",
   "metadata": {},
   "outputs": [],
   "source": [
    "import numpy as np\n",
    "from scipy import stats\n",
    "import matplotlib.pyplot as plt\n",
    "import pandas as pd\n",
    "from IPython.display import Image"
   ]
  },
  {
   "cell_type": "markdown",
   "id": "db8143cf",
   "metadata": {},
   "source": [
    "# Definition\n",
    "\n",
    "A Statistical Hypothesis is an affirmation or proposition of some feature in a population, generally over a parameter. Test an hypothesis is compare the predictions of the reality that we observe on a sample\n",
    "\n",
    "1. An emited hypothesis is usually called Null Hypothesis or $H_0$. It is whe the real value and it's hypothetical value are different due to random ocurrences, this means, there is no difference between them.\n",
    "2. The Contrary Hypothesis is called alternative hypothesis or $H_1$ \n",
    "\n",
    "## Examples\n",
    "\n",
    "1. Suspect that the nuts weight 100 grams, but really their weght is not 100 grams. To contrast this, we would rise:\n",
    "\n",
    "$$H_0: \\mu = 100$$\n",
    "$$H_1: \\mu \\neq 100$$\n",
    "\n",
    "2. Thinking of the proportion of people that vote for party \"A\" in elections now is inferior and they didn't done well. To contrast the hypothesis:\n",
    "\n",
    "$$H_0:p \\geq 0.35 $$\n",
    "$$H_1:p < 0.35 $$\n",
    "\n",
    "3. I would be happy to find out that they can't prove that my mean mark went down from 6.2 like it seems in the last tests. To contrast the hypothesis:\n",
    "\n",
    "$$H_0:\\mu \\ge 6.2 $$\n",
    "$$H_1:\\mu \\lt 6.2 $$\n",
    "<br>\n",
    "\n",
    "\n",
    "\n",
    "## Test Statistic for Means\n",
    "\n",
    "### Case 1: Known σ\n",
    "When the population Standard Deviation (σ) is known or σ is unknown but n > 30:\n",
    "\n",
    "$$Z = \\frac{(X̄ − μ)}{\\dfrac{σ}{\\sqrt(n)}}$$\n",
    "\n",
    "- Random variable ~ Normal\n",
    "- σ known, or σ unknown with n > 30\n",
    "\n",
    "\n",
    "\n",
    "Example:\n",
    "from 1500 cows that were feeded with a high protein fiber over a month. We have a sample of 29 cows with a **mean weight** gain of 7.7 libs. If the SD (Standard Deviation) of all the cows. Prove the hypothesis were the mean weight gain per cow was more than 5 libs\n",
    "- Null Hypothesis: $H_0$ > 5 libs\n",
    "- Alternative Hypothesis: $H_1$ $\\leq$ 5 \n",
    "\n",
    "$$Z = \\frac{7.7 - 5}{\\frac{7.1}{\\sqrt{29}}} = 2.049$$\n",
    "\n",
    "With this, if we need a 5% of significance ($\\alpha$), if we go to the table we got that z = 1.645, then our $Z$ > z and we reject $H_0$ with $\\alpha$ = 5% "
   ]
  },
  {
   "cell_type": "code",
   "execution_count": 9,
   "id": "1a658f88",
   "metadata": {},
   "outputs": [
    {
     "name": "stdout",
     "output_type": "stream",
     "text": [
      "Z value is: -6.3259\n",
      "Critial z is: -1.9600\n",
      "Due the value are completely different, then we reject H_0\n"
     ]
    }
   ],
   "source": [
    "# Other example with mean height of man over 18.\n",
    "# alpha = 5%, sigma = 4\n",
    "# H_0 = the mean height of men is 180cm\n",
    "sample = 15\n",
    "data = np.array([167, 167, 168, 168, 168, 169, 171, 172, 173, 175, 175, 175, 177, 182, 195])\n",
    "sigma = 4\n",
    "mean = data.mean()\n",
    "mu = 180\n",
    "alpha = 0.05\n",
    "\n",
    "# H_0 = 180\n",
    "# H_1 != 180\n",
    "\n",
    "Z = (mean-mu)/(sigma/np.sqrt(sample))\n",
    "print(f'Z value is: {Z:.4f}')\n",
    "\n",
    "# Calculating critical Z\n",
    "z = stats.norm.ppf(alpha/2) \n",
    "print(f\"Critial z is: {z:.4f}\")\n",
    "print(f'Due the value are completely different, then we reject H_0')"
   ]
  },
  {
   "cell_type": "markdown",
   "id": "5a6c8d94",
   "metadata": {},
   "source": [
    "#### Case 2 (T-Test): Unknown σ and Small Sample (n < 30)\n",
    "\n",
    "$$t = \\dfrac{X̄ − μ}{\\dfrac{S}{\\sqrt(n)}}$$\n",
    "\n",
    "\n",
    "- σ unknown\n",
    "- Small sample: n < 30\n",
    "- $S$ is the sample standard deviation\n",
    "\n",
    "**Hypothesis Testing Problem**\n",
    "\n",
    "Let $X$ be the variable **\"profitability of a certain type of investment funds after a strong appreciation of the Euro against the Dollar.\"**  \n",
    "It is considered that the mean of this variable is 15.  \n",
    "An economist claims that this average profitability **has changed**, so a study is carried out under the conditions described above, using a sample of 9 funds whose **sample mean** is $\\bar{x}$ = 15.308 and whose **sample variance** is $s^2$ = 0.193.\n",
    "\n",
    "Task\n",
    "1. **State the necessary hypotheses** and **test the economist's claim** at a **5% significance level**.\n",
    "2. Based on the result of part 1, **reason whether the 95% confidence interval** for the population mean **will include the value 15**."
   ]
  },
  {
   "cell_type": "code",
   "execution_count": null,
   "id": "eec7582a",
   "metadata": {},
   "outputs": [
    {
     "name": "stdout",
     "output_type": "stream",
     "text": [
      "The t score is: 2.1033\n",
      "The critical t is: 2.306004135204166\n",
      "This means the mean didn't change from 15\n",
      "The P-Value of the 2 tails is: 0.0686\n"
     ]
    }
   ],
   "source": [
    "# H_0 the mean didn't change\n",
    "# H_1 the mean != 15\n",
    "alpha = 0.05\n",
    "x_bar = 15.308\n",
    "mu = 15\n",
    "variance = 0.193\n",
    "sigma = np.sqrt(variance)\n",
    "n = 9\n",
    "\n",
    "\n",
    "t = (x_bar-mu)/(sigma/np.sqrt(n))\n",
    "print(f\"The t score is: {t:5.4f}\")\n",
    "\n",
    "# To reject the H_0 then this has not be true -->  -crit_t < t < crit_t \n",
    "critical_t = stats.t.ppf(1-(alpha/2), df=n-1)\n",
    "print(f'The critical t is: {np.abs(critical_t)}')\n",
    "\n",
    "# Calculating p-value\n",
    "pvalue_one_tail = 1 - (stats.t.cdf(t, df= (n-1)))\n",
    "print(f'The P-Value of the 2 tails is: {pvalue_one_tail*2:5.4f}')\n",
    "\n",
    "print(f'Because of t is between +- Critical T, there is no evidence to reject H_0')\n",
    "# The p-value is the probability of obtaining a result as extreme or more extreme than the observed one, assuming the null hypothesis is true.\n",
    "# this means if \n",
    "#                   p ≪ alpha              Reject H_0, the data is weird if H_0 were true\n",
    "#                   p ≈  alpha              Weak evidence\n",
    "#                   p >  alpha              Don't Reject H_0, the data is compatible\n",
    "print(f\"And because of P-Value > alpha, we don't reject H_0\")"
   ]
  },
  {
   "cell_type": "markdown",
   "id": "849339de",
   "metadata": {},
   "source": [
    "## Test Statistic for Proportions\n",
    "\n",
    "When working with proportions:\n",
    "\n",
    "$$Z = \\dfrac{p̂ − p}{\\sqrt{\\dfrac{p(1 − p)}{n}}}$$\n",
    "\n",
    "\n",
    "- Random variable ~ Binomial (or Normal approximation)\n",
    "- σ unknown, n > 30\n"
   ]
  },
  {
   "cell_type": "markdown",
   "id": "f416e86a",
   "metadata": {},
   "source": [
    "## **Errors in Hypothesis Testing**\n",
    "\n",
    "### Error Type I ($\\alpha$)\n",
    "Occurs when we **reject the null hypothesis $H_0$** even though it is **true**. Is also called a **false positive**.\n",
    "$$Probability: \\alpha \\text{  (significance level)}$$\n",
    "Example: Concluding a new drug works when it actually doesn't.\n",
    "\n",
    "\n",
    "\n",
    "### Error Type II ($\\beta$)\n",
    "Occurs when we **fail to reject $H_0$** even though the **alternative hypothesis $H_1$** is **true**. Is also called a **false negative**.\n",
    "$$ Probability: \\beta $$\n",
    "Example: Concluding a new drug doesn't work when it actually does.\n",
    "\n",
    "\n",
    "\n",
    "### Statistical Power\n",
    "Power = **1 − $\\beta$**. Represents the probability of **correctly rejecting $H_0$** when $H_1$ is true.\n",
    "$$High power → less chance of missing a real effect.$$\n",
    "\n",
    "### **Confusion Matrix**\n",
    "|   Sample-based decision   | $H_0$ is True | $H_0$ is False |\n",
    "|----------------------------------------|:------------------:|:--------------:|\n",
    "| **Don't reject $H_0$**  | <font color='green'>__Correct decision__</font> <br>(Probability = $1-\\alpha$)     |<font color='red'>__Type II Error__ </font> <br> Don't Reject $H_0$ when is false <br>(Probability = $\\beta$) |\n",
    "| **Reject $H_0$**   | <font color='red'>__Type I Error__</font>  <br>Reject $H_0$ when is true <br>(Probability = $\\alpha$)  | <font color='green'>__Right Decision__</font> <br>(probabilidad = $1-\\beta$)|"
   ]
  }
 ],
 "metadata": {
  "kernelspec": {
   "display_name": "DataScience",
   "language": "python",
   "name": "python3"
  },
  "language_info": {
   "codemirror_mode": {
    "name": "ipython",
    "version": 3
   },
   "file_extension": ".py",
   "mimetype": "text/x-python",
   "name": "python",
   "nbconvert_exporter": "python",
   "pygments_lexer": "ipython3",
   "version": "3.13.5"
  }
 },
 "nbformat": 4,
 "nbformat_minor": 5
}
