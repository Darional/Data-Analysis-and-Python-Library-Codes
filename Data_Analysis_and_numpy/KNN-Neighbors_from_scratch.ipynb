{
 "cells": [
  {
   "cell_type": "markdown",
   "id": "23027981",
   "metadata": {},
   "source": [
    "## K-Nearest Neighbors\n",
    "\n",
    "A Query label is determinated by weighing the distance between data points using the Euclidean distance between two points ($x_1, y_1$) and ($x_2, y_2$):\n",
    "\n",
    "$$ Distance = \\sqrt{(x_1 - x_2)^2 + (y_1 - y_2)^2}$$\n",
    "\n",
    "#### Implementing Euclidean distance in Python"
   ]
  },
  {
   "cell_type": "code",
   "execution_count": 13,
   "id": "f83a461f",
   "metadata": {},
   "outputs": [],
   "source": [
    "import math\n",
    "\n",
    "\n",
    "def euclidean_distance(point1, point2):\n",
    "    squares = [(p - q) ** 2 for p, q in zip(point1, point2)]\n",
    "    return math.sqrt(sum(squares))"
   ]
  },
  {
   "cell_type": "markdown",
   "id": "2c749c9d",
   "metadata": {},
   "source": [
    "#### Implementing K-NN Classification"
   ]
  },
  {
   "cell_type": "code",
   "execution_count": 22,
   "id": "e888c20f",
   "metadata": {},
   "outputs": [],
   "source": [
    "from collections import Counter\n",
    "\n",
    "def k_nearest_neighbors(data, query, k, distance_fn):\n",
    "    neighbor_distances_and_indices = []\n",
    "\n",
    "    for idx, (point, cls) in enumerate(data):\n",
    "        distance = distance_fn(point, query)\n",
    "        neighbor_distances_and_indices.append((distance, idx))\n",
    "\n",
    "    # Sorting by distances\n",
    "    sorted_neigbor_distances_and_indices = sorted(neighbor_distances_and_indices)\n",
    "\n",
    "    # Selecting K closest data points\n",
    "    k_nearest_distances_and_indices = sorted_neigbor_distances_and_indices[:k]\n",
    "\n",
    "    # Obtain class labels for those K data points\n",
    "    k_nearest_labels = [data[i][1] for distance, i in k_nearest_distances_and_indices]\n",
    "\n",
    "    # Majority Vote\n",
    "    most_common = Counter(k_nearest_labels).most_common(1)\n",
    "    return most_common[0][0]"
   ]
  },
  {
   "cell_type": "markdown",
   "id": "4e13e603",
   "metadata": {},
   "source": [
    "#### Using K-NN"
   ]
  },
  {
   "cell_type": "code",
   "execution_count": 23,
   "id": "e3dd50c2",
   "metadata": {},
   "outputs": [
    {
     "name": "stdout",
     "output_type": "stream",
     "text": [
      "0\n"
     ]
    }
   ],
   "source": [
    "data = [\n",
    "    ((2, 3), 0),\n",
    "    ((5, 4), 0),\n",
    "    ((9, 6), 1),\n",
    "    ((4, 7), 0),\n",
    "    ((8, 1), 1),\n",
    "    ((7, 2), 1)\n",
    "]\n",
    "query = (5, 3)  # test point\n",
    "\n",
    "# Perform the classification\n",
    "predicted_label = k_nearest_neighbors(data, query, k=3, distance_fn=euclidean_distance)\n",
    "print(predicted_label)  # Expected class label is 0"
   ]
  },
  {
   "cell_type": "code",
   "execution_count": 31,
   "id": "833289c2",
   "metadata": {},
   "outputs": [
    {
     "name": "stdout",
     "output_type": "stream",
     "text": [
      "[((2, 3), 0), ((4, 7), 0), ((5, 4), 0), ((7, 2), 1), ((8, 1), 1), ((9, 6), 1)]\n",
      "[((7, 2), 1), ((8, 1), 1), ((9, 6), 1)]\n"
     ]
    },
    {
     "data": {
      "text/plain": [
       "range(0, 5)"
      ]
     },
     "execution_count": 31,
     "metadata": {},
     "output_type": "execute_result"
    }
   ],
   "source": [
    "data = [\n",
    "    ((2, 3), 0),\n",
    "    ((5, 4), 0),\n",
    "    ((9, 6), 1),\n",
    "    ((4, 7), 0),\n",
    "    ((8, 1), 1),\n",
    "    ((7, 2), 1)\n",
    "]\n",
    "\n",
    "\n",
    "k = 3\n",
    "print(sorted(data))\n",
    "print(sorted(data)[k:])\n",
    "range(0,5) # 0,1,2,3,4"
   ]
  }
 ],
 "metadata": {
  "kernelspec": {
   "display_name": "DataScience",
   "language": "python",
   "name": "python3"
  },
  "language_info": {
   "codemirror_mode": {
    "name": "ipython",
    "version": 3
   },
   "file_extension": ".py",
   "mimetype": "text/x-python",
   "name": "python",
   "nbconvert_exporter": "python",
   "pygments_lexer": "ipython3",
   "version": "3.13.5"
  }
 },
 "nbformat": 4,
 "nbformat_minor": 5
}
