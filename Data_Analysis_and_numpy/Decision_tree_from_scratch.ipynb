{
 "cells": [
  {
   "cell_type": "markdown",
   "id": "77ecaf4f",
   "metadata": {},
   "source": [
    "# Structure of Decision Tree\n",
    "A Decision Tree has a tree-like structure with each internal node denoting a test on an attribute, each branch representing an outcome of the test, and each terminal node (leaf) holding a class label. Here are the parts of a Decision Tree:\n",
    "\n",
    "- Root Node: This houses the entire dataset.\n",
    "- Internal Nodes: These make decisions based on conditions.\n",
    "- Edges/branches: These connections implement decision rules.\n",
    "- Leaves: These are terminal nodes for making predictions.\n",
    "\n",
    "Decisions on attributes depend on how well they help to purify the data.\n",
    "\n",
    "The tree-building process begins with the full dataset at the root node, iteratively partitioning the data based on chosen attributes. Each child node becomes a new root that can be split further. This recursive process continues until predefined stopping criteria are met.\n",
    "\n",
    "## Stopping Criteria for Tree Building\n",
    "Standard stopping criteria include:\n",
    "\n",
    "- Maximum Tree Depth: Limiting the maximum depth of the tree.\n",
    "- Minimum Node Records: No more partitioning if less than a threshold number of records.\n",
    "- Node Purity: Stop if all instances at a node belong to the same class.\n",
    "These criteria ensure the model is consistent, which prevents overfitting.\n",
    "\n"
   ]
  },
  {
   "cell_type": "markdown",
   "id": "f21e856a",
   "metadata": {},
   "source": [
    "## Implementing a Decision Tree using GINI\n",
    "A Decision Tree is a tree-like graph that models decisions and their potential consequences. It starts at a single node, called the root, which splits into branches. Each branch, in turn, splits into more branches, forming a hierarchical network. The final branches with no further splits are referred to as leaf nodes. Each split is determined by whether the data satisfies a specific condition.\n",
    "\n",
    "For instance, if we build a Decision Tree to predict whether a patient will recover from a disease, the root could be temperature> 101F. The tree would then split into two branches - one for yes and another for no. Each branch could further split based on another attribute, such as cough present. This process of splitting continues until we conclude the leaf nodes, such as recovery probable or recovery doubtful"
   ]
  },
  {
   "cell_type": "code",
   "execution_count": 1,
   "id": "1d7862c7",
   "metadata": {},
   "outputs": [],
   "source": [
    "def gini_index(groups, classes):\n",
    "    n_instances = float(sum([len(group) for group in groups]))\n",
    "    gini = 0.0\n",
    "    for group in groups:\n",
    "        size = len(group)\n",
    "        if size == 0:\n",
    "            continue\n",
    "        score = 0.0\n",
    "        for class_val in classes:\n",
    "            p = [row[-1] for row in group].count(class_val) / size\n",
    "            score += p * p\n",
    "        gini += (1.0 - score) * (size / n_instances)\n",
    "    return gini\n",
    "\n",
    "\n",
    "def test_split(index, value, dataset):\n",
    "    left, right = list(), list()\n",
    "    for row in dataset:\n",
    "        if row[index] < value:\n",
    "            left.append(row)\n",
    "        else:\n",
    "            right.append(row)\n",
    "    return left, right\n",
    "\n",
    "\n",
    "def get_split(dataset):\n",
    "    class_values = list(set(row[-1] for row in dataset))  # Find unique classes in the dataset\n",
    "    b_index, b_value, b_score, b_groups = 999, 999, 999, None\n",
    "    for index in range(len(dataset[0])-1):    # Exclude the last column which is the class\n",
    "        for row in dataset:\n",
    "            groups = test_split(index, row[index], dataset)\n",
    "            gini = gini_index(groups, class_values)\n",
    "            if gini < b_score:\n",
    "                b_index, b_value, b_score, b_groups = index, row[index], gini, groups\n",
    "    return {'index': b_index, 'value': b_value, 'groups': b_groups}"
   ]
  },
  {
   "cell_type": "markdown",
   "id": "0b238b5d",
   "metadata": {},
   "source": [
    "## Implementing Decision Tree in Python\n",
    "\n",
    "Starting with the Terminal node first:"
   ]
  },
  {
   "cell_type": "code",
   "execution_count": 9,
   "id": "903bb5c1",
   "metadata": {},
   "outputs": [],
   "source": [
    "def create_terminal(group):\n",
    "    outcomes = [row[-1] for row in group]\n",
    "    return max(set(outcomes), key=outcomes.count)"
   ]
  },
  {
   "cell_type": "markdown",
   "id": "68899af4",
   "metadata": {},
   "source": [
    "## Implementing the Recursive Split\n",
    "The `recurse_split` is responsible for creating children nodes:"
   ]
  },
  {
   "cell_type": "code",
   "execution_count": null,
   "id": "e68373fa",
   "metadata": {},
   "outputs": [],
   "source": [
    "def recurse_split(node, max_depth, min_size, depth):\n",
    "    left, right = node['groups']\n",
    "    del(node['groups'])\n",
    "\n",
    "    # If right or left groups are empty, create a terminal node.\n",
    "    if not left or not right:\n",
    "        node['left'] = node['right'] = create_terminal(left + right)\n",
    "        return\n",
    "    \n",
    "    # Check for max depth\n",
    "    if depth >= max_depth:\n",
    "        node['left'], node['right'] = create_terminal(left), create_terminal(right)\n",
    "        return\n",
    "    \n",
    "    # Process the children nodes\n",
    "    if len(left) <= min_size:\n",
    "        node['left'] = create_terminal(left)\n",
    "    else:\n",
    "        node['left'] = get_split(left)\n",
    "        recurse_split(node['left'], max_depth, min_size, depth + 1)\n",
    "\n",
    "    if len(right) <= min_size:\n",
    "        node['right'] = create_terminal(right)\n",
    "    else:\n",
    "        node['right'] = get_split(right)\n",
    "        recurse_split(node['right'], max_depth, min_size, depth + 1)"
   ]
  },
  {
   "cell_type": "markdown",
   "id": "04af4e31",
   "metadata": {},
   "source": [
    "The `create_terminal` function determine the most common class value in a group of rows and assign that value as the final decision for that subset of data.\n",
    "\n",
    "Creating the actual tree building:"
   ]
  },
  {
   "cell_type": "code",
   "execution_count": 7,
   "id": "e77c8b19",
   "metadata": {},
   "outputs": [],
   "source": [
    "def build_tree(train, max_depth, min_size):\n",
    "    root = get_split(train)\n",
    "    recurse_split(root, max_depth, min_size, 1)\n",
    "    return root"
   ]
  },
  {
   "cell_type": "markdown",
   "id": "96410c41",
   "metadata": {},
   "source": [
    "## Let's Build and print a Tree"
   ]
  },
  {
   "cell_type": "code",
   "execution_count": 10,
   "id": "a9531730",
   "metadata": {},
   "outputs": [
    {
     "name": "stdout",
     "output_type": "stream",
     "text": [
      "[X1 < 10.000]\n",
      " [X1 < 5.000]\n",
      "  [0]\n",
      "  [0]\n",
      " [X2 < 8.000]\n",
      "  [1]\n",
      "  [0]\n"
     ]
    }
   ],
   "source": [
    "dataset = [\n",
    "    [5, 3, 0], [6, 3, 0], [6, 4, 0], [10, 3, 1],\n",
    "    [11, 4, 1], [12, 8, 0], [5, 5, 0], [12, 4, 1]\n",
    "]\n",
    "\n",
    "max_depth = 2\n",
    "min_size = 1\n",
    "tree = build_tree(dataset, max_depth, min_size)\n",
    "\n",
    "# Printing Tree\n",
    "def print_tree(node, depth=0):\n",
    "    if isinstance(node, dict):\n",
    "        print('%s[X%d < %.3f]' % ((depth*' ', (node['index']+1), node['value'])))\n",
    "        print_tree(node['left'], depth+1)\n",
    "        print_tree(node['right'], depth+1)\n",
    "    else:\n",
    "        print('%s[%s]' % ((depth*' ', node)))\n",
    "\n",
    "print_tree(tree)"
   ]
  },
  {
   "cell_type": "markdown",
   "id": "eeaa5828",
   "metadata": {},
   "source": [
    "The print_tree output shows a decision tree. [X1 < 10.000] checks if feature X1 is less than 10.000. Left branch ([X1 < 5.000]) and its subsequent nodes ([0] and [0]) indicate the conditions and predictions if 'Yes'. The right branch ([X2 < 8.000]) and its nodes ([1] and [0]) cover the cases for 'No'. Indentations imply tree depth."
   ]
  }
 ],
 "metadata": {
  "kernelspec": {
   "display_name": "DataScience",
   "language": "python",
   "name": "python3"
  },
  "language_info": {
   "codemirror_mode": {
    "name": "ipython",
    "version": 3
   },
   "file_extension": ".py",
   "mimetype": "text/x-python",
   "name": "python",
   "nbconvert_exporter": "python",
   "pygments_lexer": "ipython3",
   "version": "3.13.5"
  }
 },
 "nbformat": 4,
 "nbformat_minor": 5
}
