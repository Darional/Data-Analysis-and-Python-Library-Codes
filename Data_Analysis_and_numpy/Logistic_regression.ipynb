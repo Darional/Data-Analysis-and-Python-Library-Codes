{
 "cells": [
  {
   "cell_type": "markdown",
   "id": "0c8828e4",
   "metadata": {},
   "source": [
    "# Sigmoid Function: the Heart of Logistic Regression\n",
    "\n",
    "While Linear Regression makes predictions by directly calculating the output, Logistic Regression does it differently. Instead of directly predicting the output, Logistic Regression calculates a raw model output, then transforms it using the sigmoid function, mapping it to a range between 0 and 1, thus making it a probability.\n",
    "\n",
    "The sigmoid function is defined as $S(x) = \\dfrac{1}{1+e^{-x}}$ \n",
    "\n",
    "Can be implemented in python as:"
   ]
  },
  {
   "cell_type": "code",
   "execution_count": 5,
   "id": "63a295b0",
   "metadata": {},
   "outputs": [
    {
     "data": {
      "image/png": "[encoded data removed]",
      "text/plain": [
       "<Figure size 640x480 with 1 Axes>"
      ]
     },
     "metadata": {},
     "output_type": "display_data"
    }
   ],
   "source": [
    "import numpy as np\n",
    "import matplotlib.pyplot as plt\n",
    "\n",
    "\n",
    "def sigmoid(z):\n",
    "    return 1 / (1 + np.exp(-z))\n",
    "\n",
    "x = np.linspace(-10,10,2000)\n",
    "y = sigmoid(x)\n",
    "plt.plot(x ,y, c='b')\n",
    "plt.grid(True),\n",
    "plt.xlabel(\"X\")\n",
    "plt.ylabel('y')\n",
    "plt.xlim([-10.5,10.5])\n",
    "plt.ylim([-0.1,1.1])\n",
    "plt.title(\"Sigmoid Function\")\n",
    "plt.show()\n"
   ]
  },
  {
   "cell_type": "markdown",
   "id": "3db1e782",
   "metadata": {},
   "source": [
    "The feature of long positive input is close to 1, and long negative input is 0, makes it a perfect fit when we want to classify emails into two categories: \"spam\" or \"not-spam\".\n",
    "\n",
    "## Understanding Logistic Regression\n",
    "\n",
    "The mathematical form of Logistic Regression can be expressed as follows:\n",
    "\n",
    "$$P(Y = 1|x) = \\dfrac{1}{1+e^{\\beta_0 + \\beta_1 \\cdot x}}$$\n",
    "Where:\n",
    "- $P(Y = 1|x)$ is the probability of event Y = 1 given x\n",
    "- $\\beta_0$ an $\\beta_1$ are the parameters models.\n",
    "- x is the input variable\n",
    "- $\\beta_0$ + $\\beta_1 \\cdot$ x is the linear combination of parameters and feature(s)\n",
    "\n",
    "And the `Cost Function` of the Logistic Regression can be expressed as:\n",
    "$$ -[y \\cdot log(\\hat{p}) + (1-y)log(1- \\hat{p})]$$\n",
    "Where:\n",
    "- $\\hat{p}$ denotes the predicted probability\n",
    "\n",
    "Can be implemented as:"
   ]
  },
  {
   "cell_type": "code",
   "execution_count": null,
   "id": "4578d5eb",
   "metadata": {},
   "outputs": [],
   "source": [
    "def cost_function(h, y):\n",
    "    return (-y * np.log(h) - (1 - y) * np.log(1 - h)).mean()"
   ]
  },
  {
   "cell_type": "markdown",
   "id": "3a40e07a",
   "metadata": {},
   "source": [
    "## Implementing Logistic Regression with Gradient Descent"
   ]
  },
  {
   "cell_type": "code",
   "execution_count": null,
   "id": "d1188577",
   "metadata": {},
   "outputs": [],
   "source": [
    "def logistic_regression(X, y, num_iterations, learning_rate):\n",
    "    # Add intercept to X\n",
    "    intercept = np.ones((X.shape[0], 1))\n",
    "    X = np.concatenate((intercept, X), axis=1)\n",
    "\n",
    "    # Weights initialization\n",
    "    theta = np.zeros(X.shape[1])\n",
    "\n",
    "    for i in range(num_iterations):\n",
    "        z = np.dot(X, theta)\n",
    "        h = sigmoid(z)\n",
    "        gradient = np.dot(X.T, (h - y)) / y.size\n",
    "        theta -= learning_rate * gradient\n",
    "\n",
    "        z = np.dot(X, theta)\n",
    "        h = sigmoid(z)\n",
    "        loss = cost_function(h, y)\n",
    "\n",
    "        if i % 10000 == 0:\n",
    "            print(f'Loss: {loss}\\t')\n",
    "\n",
    "    return theta"
   ]
  },
  {
   "cell_type": "markdown",
   "id": "b70d8a60",
   "metadata": {},
   "source": [
    "### Example"
   ]
  },
  {
   "cell_type": "code",
   "execution_count": 6,
   "id": "b618d0a3",
   "metadata": {},
   "outputs": [
    {
     "name": "stdout",
     "output_type": "stream",
     "text": [
      "Loss after 0 iterations: 0.6560020538325616\t\n",
      "Loss after 10000 iterations: 0.015463551362280403\t\n",
      "Loss after 20000 iterations: 0.012145084291705443\t\n",
      "Accuracy: 0.995\n"
     ]
    }
   ],
   "source": [
    "import numpy as np\n",
    "import matplotlib.pyplot as plt\n",
    "\n",
    "def sigmoid(z):\n",
    "    return 1 / (1 + np.exp(-z))\n",
    "\n",
    "def cost_function(h, y):\n",
    "    return (-y * np.log(h) - (1 - y) * np.log(1 - h)).mean()\n",
    "\n",
    "def logistic_regression(X, y, num_iterations, learning_rate):\n",
    "    # Add intercept to X\n",
    "    intercept = np.ones((X.shape[0], 1))\n",
    "    X = np.concatenate((intercept, X), axis=1)\n",
    "\n",
    "    # Weights initialization\n",
    "    theta = np.zeros(X.shape[1])\n",
    "\n",
    "    for i in range(num_iterations):\n",
    "        z = np.dot(X, theta)\n",
    "        h = sigmoid(z)\n",
    "        gradient = np.dot(X.T, (h - y)) / y.size\n",
    "        theta -= learning_rate * gradient\n",
    "\n",
    "        z = np.dot(X, theta)\n",
    "        h = sigmoid(z)\n",
    "        loss = cost_function(h, y)\n",
    "\n",
    "        if i % 10000 == 0:\n",
    "            print(f'Loss after {i} iterations: {loss}\\t')\n",
    "\n",
    "    return theta\n",
    "\n",
    "def predict_prob(X, theta):\n",
    "    # Add intercept to X\n",
    "    intercept = np.ones((X.shape[0], 1))\n",
    "    X = np.concatenate((intercept, X), axis=1)\n",
    "    return sigmoid(np.dot(X, theta))\n",
    "\n",
    "def predict(X, theta, threshold=0.5):\n",
    "    return predict_prob(X, theta) >= threshold\n",
    "\n",
    "np.random.seed(0)\n",
    "num_observations = 1000\n",
    "x1 = np.random.multivariate_normal([0, 0], [[1, .75],[.75, 1]], num_observations)\n",
    "x2 = np.random.multivariate_normal([1, 4], [[1, .75],[.75, 1]], num_observations)\n",
    "X = np.vstack((x1, x2)).astype(np.float32)\n",
    "y = np.hstack((np.zeros(num_observations), np.ones(num_observations)))\n",
    "\n",
    "# Split into train and test\n",
    "train_ratio = 0.7\n",
    "idx = int(X.shape[0] * train_ratio)\n",
    "X_train, X_test = X[:idx, :], X[idx:, :]\n",
    "y_train, y_test = y[:idx], y[idx:]\n",
    "\n",
    "# Training\n",
    "theta = logistic_regression(X_train, y_train, num_iterations = 30000, learning_rate = 0.1)\n",
    "\n",
    "# Prediction and Accuracy calculation\n",
    "y_pred = predict(X_test, theta)\n",
    "accuracy = (y_pred == y_test).mean()\n",
    "print('Accuracy:', accuracy)"
   ]
  }
 ],
 "metadata": {
  "kernelspec": {
   "display_name": "DataScience",
   "language": "python",
   "name": "python3"
  },
  "language_info": {
   "codemirror_mode": {
    "name": "ipython",
    "version": 3
   },
   "file_extension": ".py",
   "mimetype": "text/x-python",
   "name": "python",
   "nbconvert_exporter": "python",
   "pygments_lexer": "ipython3",
   "version": "3.13.5"
  }
 },
 "nbformat": 4,
 "nbformat_minor": 5
}
